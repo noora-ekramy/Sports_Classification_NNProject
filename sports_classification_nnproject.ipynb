{
  "cells": [
    {
      "cell_type": "markdown",
      "metadata": {
        "id": "view-in-github",
        "colab_type": "text"
      },
      "source": [
        "<a href=\"https://colab.research.google.com/github/noora-ekramy/Sports_Classification_NNProject/blob/main/sports_classification_nnproject.ipynb\" target=\"_parent\"><img src=\"https://colab.research.google.com/assets/colab-badge.svg\" alt=\"Open In Colab\"/></a>"
      ]
    },
    {
      "cell_type": "code",
      "execution_count": null,
      "metadata": {
        "id": "tUtCzCI7A_Vu"
      },
      "outputs": [],
      "source": [
        "! unzip \"/content/drive/MyDrive/NN Project Dataset/data.zip\""
      ]
    },
    {
      "cell_type": "code",
      "execution_count": null,
      "metadata": {
        "id": "XM1Z8ULsNDGz"
      },
      "outputs": [],
      "source": [
        "from keras_preprocessing.image import ImageDataGenerator\n",
        "\n",
        "trainDataGenerator = ImageDataGenerator(rescale=1./255, validation_split=0.2 )\n"
      ]
    },
    {
      "cell_type": "code",
      "execution_count": null,
      "metadata": {
        "id": "nBxnzHIFN8iS"
      },
      "outputs": [],
      "source": [
        "classes=[\n",
        "    'Basketball',\n",
        "    'Football',\n",
        "    'Rowing',\n",
        "    'Swimming',\n",
        "    'Tennis',\n",
        "    'Yoga',\n",
        "]"
      ]
    },
    {
      "cell_type": "code",
      "execution_count": null,
      "metadata": {
        "colab": {
          "base_uri": "https://localhost:8080/"
        },
        "id": "rp93BxbUNx2W",
        "outputId": "ada5b473-6c32-4840-c27e-32819e4f9a37"
      },
      "outputs": [
        {
          "output_type": "stream",
          "name": "stdout",
          "text": [
            "Found 22717 images belonging to 6 classes.\n",
            "Found 5677 images belonging to 6 classes.\n"
          ]
        }
      ],
      "source": [
        "train_d = trainDataGenerator.flow_from_directory(\n",
        "     \"/content/kaggle/working/images\",\n",
        "      classes=classes,\n",
        "      color_mode=\"rgb\",\n",
        "      batch_size=32,\n",
        "      target_size=(224,224),\n",
        "      class_mode=\"categorical\",\n",
        "      subset=\"training\")\n",
        "valid_d = trainDataGenerator.flow_from_directory(\n",
        "     \"/content/kaggle/working/images\",\n",
        "      classes=classes,\n",
        "      color_mode=\"rgb\",\n",
        "      batch_size=32,\n",
        "      target_size=(224,224),\n",
        "      class_mode=\"categorical\",\n",
        "      subset=\"validation\")"
      ]
    },
    {
      "cell_type": "code",
      "source": [
        "image_size = 224"
      ],
      "metadata": {
        "id": "SuTOIk9tiJYM"
      },
      "execution_count": null,
      "outputs": []
    },
    {
      "cell_type": "code",
      "source": [
        "import tensorflow as tf\n",
        "import tensorflow.keras as keras\n",
        "from tensorflow.keras.models import Sequential\n",
        "from keras.layers import Dense, Dropout, Flatten\n",
        "from keras.layers.convolutional import Conv2D, MaxPooling2D\n",
        "from keras.layers import Dense, Dropout, Flatten, Conv2D, MaxPool2D\n",
        "from tensorflow.keras import callbacks\n",
        "from tensorflow.keras.optimizers import RMSprop\n",
        "\n",
        "import matplotlib.pyplot as plt\n",
        "\n",
        "from keras.models import Model\n",
        "from keras.layers import concatenate\n",
        "from keras.layers import Conv2D , MaxPool2D , Input , GlobalAveragePooling2D ,AveragePooling2D, Dense , Dropout ,Activation, Flatten , BatchNormalization\n"
      ],
      "metadata": {
        "id": "8xZk8dYLhu3c"
      },
      "execution_count": null,
      "outputs": []
    },
    {
      "cell_type": "code",
      "source": [
        "def InceptionV3():\n",
        "    input_layer = Input(shape=(224 , 224 , 3))\n",
        "\n",
        "    x = StemBlock(input_layer)\n",
        "\n",
        "    x = InceptionBlock_A(prev_layer = x ,nbr_kernels = 32)\n",
        "    x = InceptionBlock_A(prev_layer = x ,nbr_kernels = 64)\n",
        "    x = InceptionBlock_A(prev_layer = x ,nbr_kernels = 64)\n",
        "\n",
        "    x = ReductionBlock_A(prev_layer = x )\n",
        "\n",
        "    x = InceptionBlock_B(prev_layer = x  , nbr_kernels = 128)\n",
        "    x = InceptionBlock_B(prev_layer = x , nbr_kernels = 160)\n",
        "    x = InceptionBlock_B(prev_layer = x , nbr_kernels = 160)\n",
        "    x = InceptionBlock_B(prev_layer = x , nbr_kernels = 192)\n",
        "\n",
        "    Aux = auxiliary_classifier(prev_Layer = x)\n",
        "\n",
        "    x = ReductionBlock_B(prev_layer = x)\n",
        "\n",
        "    x = InceptionBlock_C(prev_layer = x)\n",
        "    x = InceptionBlock_C(prev_layer = x)\n",
        "\n",
        "    x = GlobalAveragePooling2D()(x)\n",
        "    x = Dense(units=2048, activation='relu') (x)\n",
        "    x = Dropout(rate = 0.2) (x)\n",
        "    x = Dense(units=6, activation='softmax') (x)\n",
        "\n",
        "    model = Model(inputs = input_layer , outputs = [x,Aux] , name = 'Inception-V3')\n",
        "\n",
        "    return model\n",
        "\n",
        "\n",
        "def conv_with_Batch_Normalisation(prev_layer , nbr_kernels , filter_Size , strides =(1,1) , padding = 'same'):\n",
        "    x = Conv2D(filters=nbr_kernels, kernel_size = filter_Size, strides=strides , padding=padding)(prev_layer)\n",
        "    x = BatchNormalization(axis=3)(x)\n",
        "    x = Activation(activation='relu')(x)\n",
        "    return x\n",
        "\n",
        "\n",
        "def StemBlock(prev_layer):\n",
        "    x = conv_with_Batch_Normalisation(prev_layer, nbr_kernels = 32, filter_Size=(3,3) , strides=(2,2))\n",
        "    x = conv_with_Batch_Normalisation(x, nbr_kernels = 32, filter_Size=(3,3))\n",
        "    x = conv_with_Batch_Normalisation(x, nbr_kernels = 64, filter_Size=(3,3))\n",
        "    x = MaxPool2D(pool_size=(3,3) , strides=(2,2)) (x)\n",
        "    x = conv_with_Batch_Normalisation(x, nbr_kernels = 80, filter_Size=(1,1))\n",
        "    x = conv_with_Batch_Normalisation(x, nbr_kernels = 192, filter_Size=(3,3))\n",
        "    x = MaxPool2D(pool_size=(3,3) , strides=(2,2)) (x)\n",
        "    return x\n",
        "\n",
        "\n",
        "def InceptionBlock_A(prev_layer  , nbr_kernels):\n",
        "\n",
        "    branch1 = conv_with_Batch_Normalisation(prev_layer, nbr_kernels = 64, filter_Size = (1,1))\n",
        "    branch1 = conv_with_Batch_Normalisation(branch1, nbr_kernels=96, filter_Size=(3,3))\n",
        "    branch1 = conv_with_Batch_Normalisation(branch1, nbr_kernels=96, filter_Size=(3,3))\n",
        "\n",
        "    branch2 = conv_with_Batch_Normalisation(prev_layer, nbr_kernels=48, filter_Size=(1,1))\n",
        "    branch2 = conv_with_Batch_Normalisation(branch2, nbr_kernels=64, filter_Size=(3,3)) # may be 3*3\n",
        "\n",
        "    branch3 = AveragePooling2D(pool_size=(3,3) , strides=(1,1) , padding='same') (prev_layer)\n",
        "    branch3 = conv_with_Batch_Normalisation(branch3, nbr_kernels = nbr_kernels, filter_Size = (1,1))\n",
        "\n",
        "    branch4 = conv_with_Batch_Normalisation(prev_layer, nbr_kernels=64, filter_Size=(1,1))\n",
        "\n",
        "    output = concatenate([branch1 , branch2 , branch3 , branch4], axis=3)\n",
        "\n",
        "    return output\n",
        "\n",
        "\n",
        "def InceptionBlock_B(prev_layer , nbr_kernels):\n",
        "\n",
        "    branch1 = conv_with_Batch_Normalisation(prev_layer, nbr_kernels = nbr_kernels, filter_Size = (1,1))\n",
        "    branch1 = conv_with_Batch_Normalisation(branch1, nbr_kernels = nbr_kernels, filter_Size = (7,1))\n",
        "    branch1 = conv_with_Batch_Normalisation(branch1, nbr_kernels = nbr_kernels, filter_Size = (1,7))\n",
        "    branch1 = conv_with_Batch_Normalisation(branch1, nbr_kernels = nbr_kernels, filter_Size = (7,1))\n",
        "    branch1 = conv_with_Batch_Normalisation(branch1, nbr_kernels = 192, filter_Size = (1,7))\n",
        "\n",
        "    branch2 = conv_with_Batch_Normalisation(prev_layer, nbr_kernels = nbr_kernels, filter_Size = (1,1))\n",
        "    branch2 = conv_with_Batch_Normalisation(branch2, nbr_kernels = nbr_kernels, filter_Size = (1,7))\n",
        "    branch2 = conv_with_Batch_Normalisation(branch2, nbr_kernels = 192, filter_Size = (7,1))\n",
        "\n",
        "    branch3 = AveragePooling2D(pool_size=(3,3) , strides=(1,1) , padding ='same') (prev_layer)\n",
        "    branch3 = conv_with_Batch_Normalisation(branch3, nbr_kernels = 192, filter_Size = (1,1))\n",
        "\n",
        "    branch4 = conv_with_Batch_Normalisation(prev_layer, nbr_kernels = 192, filter_Size = (1,1))\n",
        "\n",
        "    output = concatenate([branch1 , branch2 , branch3 , branch4], axis = 3)\n",
        "\n",
        "    return output\n",
        "\n",
        "\n",
        "def InceptionBlock_C(prev_layer):\n",
        "\n",
        "    branch1 = conv_with_Batch_Normalisation(prev_layer, nbr_kernels = 448, filter_Size = (1,1))\n",
        "    branch1 = conv_with_Batch_Normalisation(branch1, nbr_kernels = 384, filter_Size = (3,3))\n",
        "    branch1_1 = conv_with_Batch_Normalisation(branch1, nbr_kernels = 384, filter_Size = (1,3))\n",
        "    branch1_2 = conv_with_Batch_Normalisation(branch1, nbr_kernels = 384, filter_Size = (3,1))\n",
        "    branch1 = concatenate([branch1_1 , branch1_2], axis = 3)\n",
        "\n",
        "    branch2 = conv_with_Batch_Normalisation(prev_layer, nbr_kernels = 384, filter_Size = (1,1))\n",
        "    branch2_1 = conv_with_Batch_Normalisation(branch2, nbr_kernels = 384, filter_Size = (1,3))\n",
        "    branch2_2 = conv_with_Batch_Normalisation(branch2, nbr_kernels = 384, filter_Size = (3,1))\n",
        "    branch2 = concatenate([branch2_1 , branch2_2], axis = 3)\n",
        "\n",
        "    branch3 = AveragePooling2D(pool_size=(3,3) , strides=(1,1) , padding='same')(prev_layer)\n",
        "    branch3 = conv_with_Batch_Normalisation(branch3, nbr_kernels = 192, filter_Size = (1,1))\n",
        "\n",
        "    branch4 = conv_with_Batch_Normalisation(prev_layer, nbr_kernels = 320, filter_Size = (1,1))\n",
        "\n",
        "    output = concatenate([branch1 , branch2 , branch3 , branch4], axis = 3)\n",
        "\n",
        "    return output\n",
        "\n",
        "\n",
        "def ReductionBlock_A(prev_layer):\n",
        "\n",
        "    branch1 = conv_with_Batch_Normalisation(prev_layer, nbr_kernels = 64, filter_Size = (1,1))\n",
        "    branch1 = conv_with_Batch_Normalisation(branch1, nbr_kernels = 96, filter_Size = (3,3))\n",
        "    branch1 = conv_with_Batch_Normalisation(branch1, nbr_kernels = 96, filter_Size = (3,3) , strides=(2,2) ) #, padding='valid'\n",
        "\n",
        "    branch2 = conv_with_Batch_Normalisation(prev_layer, nbr_kernels = 384, filter_Size=(3,3) , strides=(2,2) )\n",
        "\n",
        "    branch3 = MaxPool2D(pool_size=(3,3) , strides=(2,2) , padding='same')(prev_layer)\n",
        "\n",
        "    output = concatenate([branch1 , branch2 , branch3], axis = 3)\n",
        "\n",
        "    return output\n",
        "\n",
        "\n",
        "def ReductionBlock_B(prev_layer):\n",
        "\n",
        "    branch1 = conv_with_Batch_Normalisation(prev_layer, nbr_kernels = 192, filter_Size = (1,1))\n",
        "    branch1 = conv_with_Batch_Normalisation(branch1, nbr_kernels = 192, filter_Size = (1,7))\n",
        "    branch1 = conv_with_Batch_Normalisation(branch1, nbr_kernels = 192, filter_Size = (7,1))\n",
        "    branch1 = conv_with_Batch_Normalisation(branch1, nbr_kernels = 192, filter_Size = (3,3) , strides=(2,2) , padding = 'valid')\n",
        "\n",
        "    branch2 = conv_with_Batch_Normalisation(prev_layer, nbr_kernels = 192, filter_Size = (1,1) )\n",
        "    branch2 = conv_with_Batch_Normalisation(branch2, nbr_kernels = 320, filter_Size = (3,3) , strides=(2,2) , padding='valid' )\n",
        "\n",
        "    branch3 = MaxPool2D(pool_size=(3,3) , strides=(2,2) )(prev_layer)\n",
        "\n",
        "    output = concatenate([branch1 , branch2 , branch3], axis = 3)\n",
        "\n",
        "    return output\n",
        "\n",
        "\n",
        "def auxiliary_classifier(prev_Layer):\n",
        "    x = AveragePooling2D(pool_size=(5,5) , strides=(3,3)) (prev_Layer)\n",
        "    x = conv_with_Batch_Normalisation(x, nbr_kernels = 128, filter_Size = (1,1))\n",
        "    x = Flatten()(x)\n",
        "    x = Dense(units = 768, activation='relu') (x)\n",
        "    x = Dropout(rate = 0.2) (x)\n",
        "    x = Dense(units = 6, activation='softmax') (x)\n",
        "    return x\n",
        "x=InceptionV3()\n",
        "\n",
        "x.compile(optimizer='adam', loss='categorical_crossentropy', metrics=['acc'])\n",
        "\n",
        "history = x.fit(train_d,validation_data=valid_d,epochs=100)\n"
      ],
      "metadata": {
        "colab": {
          "base_uri": "https://localhost:8080/"
        },
        "id": "ALgSWXxthVY4",
        "outputId": "9e2de442-c5f0-4543-9b51-870223c5e188"
      },
      "execution_count": null,
      "outputs": [
        {
          "output_type": "stream",
          "name": "stdout",
          "text": [
            "710/710 [==============================] - 248s 349ms/step - loss: 0.0677 - dense_3_loss: 0.0340 - dense_1_loss: 0.0337 - dense_3_acc: 0.9890 - dense_1_acc: 0.9895 - val_loss: 0.1783 - val_dense_3_loss: 0.0899 - val_dense_1_loss: 0.0884 - val_dense_3_acc: 0.9711 - val_dense_1_acc: 0.9748\n",
            "Epoch 31/100\n",
            "710/710 [==============================] - 250s 353ms/step - loss: 0.0577 - dense_3_loss: 0.0305 - dense_1_loss: 0.0273 - dense_3_acc: 0.9904 - dense_1_acc: 0.9910 - val_loss: 0.3446 - val_dense_3_loss: 0.1770 - val_dense_1_loss: 0.1676 - val_dense_3_acc: 0.9524 - val_dense_1_acc: 0.9563\n",
            "Epoch 32/100\n",
            "710/710 [==============================] - 249s 350ms/step - loss: 0.0620 - dense_3_loss: 0.0331 - dense_1_loss: 0.0289 - dense_3_acc: 0.9897 - dense_1_acc: 0.9912 - val_loss: 0.5876 - val_dense_3_loss: 0.3032 - val_dense_1_loss: 0.2844 - val_dense_3_acc: 0.9320 - val_dense_1_acc: 0.9443\n",
            "Epoch 33/100\n",
            "710/710 [==============================] - 247s 348ms/step - loss: 0.0645 - dense_3_loss: 0.0344 - dense_1_loss: 0.0300 - dense_3_acc: 0.9886 - dense_1_acc: 0.9905 - val_loss: 0.1293 - val_dense_3_loss: 0.0629 - val_dense_1_loss: 0.0665 - val_dense_3_acc: 0.9813 - val_dense_1_acc: 0.9815\n",
            "Epoch 34/100\n",
            "710/710 [==============================] - 248s 349ms/step - loss: 0.0455 - dense_3_loss: 0.0233 - dense_1_loss: 0.0221 - dense_3_acc: 0.9926 - dense_1_acc: 0.9929 - val_loss: 0.1238 - val_dense_3_loss: 0.0590 - val_dense_1_loss: 0.0648 - val_dense_3_acc: 0.9838 - val_dense_1_acc: 0.9841\n",
            "Epoch 35/100\n",
            "710/710 [==============================] - 248s 350ms/step - loss: 0.0585 - dense_3_loss: 0.0306 - dense_1_loss: 0.0279 - dense_3_acc: 0.9901 - dense_1_acc: 0.9916 - val_loss: 0.1683 - val_dense_3_loss: 0.0765 - val_dense_1_loss: 0.0918 - val_dense_3_acc: 0.9790 - val_dense_1_acc: 0.9766\n",
            "Epoch 36/100\n",
            "710/710 [==============================] - 248s 350ms/step - loss: 0.0529 - dense_3_loss: 0.0281 - dense_1_loss: 0.0248 - dense_3_acc: 0.9922 - dense_1_acc: 0.9929 - val_loss: 0.2062 - val_dense_3_loss: 0.0956 - val_dense_1_loss: 0.1106 - val_dense_3_acc: 0.9701 - val_dense_1_acc: 0.9664\n",
            "Epoch 37/100\n",
            "710/710 [==============================] - 248s 350ms/step - loss: 0.0424 - dense_3_loss: 0.0219 - dense_1_loss: 0.0205 - dense_3_acc: 0.9937 - dense_1_acc: 0.9941 - val_loss: 0.0838 - val_dense_3_loss: 0.0421 - val_dense_1_loss: 0.0417 - val_dense_3_acc: 0.9884 - val_dense_1_acc: 0.9886\n",
            "Epoch 38/100\n",
            "710/710 [==============================] - 248s 350ms/step - loss: 0.0508 - dense_3_loss: 0.0260 - dense_1_loss: 0.0248 - dense_3_acc: 0.9909 - dense_1_acc: 0.9924 - val_loss: 0.1986 - val_dense_3_loss: 0.0931 - val_dense_1_loss: 0.1055 - val_dense_3_acc: 0.9750 - val_dense_1_acc: 0.9752\n",
            "Epoch 39/100\n",
            "710/710 [==============================] - 251s 354ms/step - loss: 0.0554 - dense_3_loss: 0.0291 - dense_1_loss: 0.0262 - dense_3_acc: 0.9915 - dense_1_acc: 0.9918 - val_loss: 0.1872 - val_dense_3_loss: 0.0903 - val_dense_1_loss: 0.0969 - val_dense_3_acc: 0.9750 - val_dense_1_acc: 0.9757\n",
            "Epoch 40/100\n",
            "710/710 [==============================] - 248s 350ms/step - loss: 0.0386 - dense_3_loss: 0.0212 - dense_1_loss: 0.0174 - dense_3_acc: 0.9927 - dense_1_acc: 0.9948 - val_loss: 0.5029 - val_dense_3_loss: 0.2433 - val_dense_1_loss: 0.2596 - val_dense_3_acc: 0.9394 - val_dense_1_acc: 0.9456\n",
            "Epoch 41/100\n",
            "710/710 [==============================] - 249s 350ms/step - loss: 0.0474 - dense_3_loss: 0.0238 - dense_1_loss: 0.0235 - dense_3_acc: 0.9926 - dense_1_acc: 0.9935 - val_loss: 0.1016 - val_dense_3_loss: 0.0426 - val_dense_1_loss: 0.0591 - val_dense_3_acc: 0.9873 - val_dense_1_acc: 0.9838\n",
            "Epoch 42/100\n",
            "710/710 [==============================] - 250s 353ms/step - loss: 0.0459 - dense_3_loss: 0.0238 - dense_1_loss: 0.0222 - dense_3_acc: 0.9929 - dense_1_acc: 0.9937 - val_loss: 0.1528 - val_dense_3_loss: 0.0741 - val_dense_1_loss: 0.0787 - val_dense_3_acc: 0.9783 - val_dense_1_acc: 0.9769\n",
            "Epoch 43/100\n",
            " 98/710 [===>..........................] - ETA: 3:12 - loss: 0.0508 - dense_3_loss: 0.0231 - dense_1_loss: 0.0276 - dense_3_acc: 0.9917 - dense_1_acc: 0.9911"
          ]
        }
      ]
    },
    {
      "cell_type": "code",
      "source": [
        "x.save(\"InceptionV3_Model.h5\")"
      ],
      "metadata": {
        "id": "Ao4zkDEohyYn"
      },
      "execution_count": null,
      "outputs": []
    }
  ],
  "metadata": {
    "accelerator": "GPU",
    "colab": {
      "provenance": [],
      "include_colab_link": true
    },
    "gpuClass": "standard",
    "kernelspec": {
      "display_name": "Python 3",
      "name": "python3"
    },
    "language_info": {
      "name": "python"
    }
  },
  "nbformat": 4,
  "nbformat_minor": 0
}